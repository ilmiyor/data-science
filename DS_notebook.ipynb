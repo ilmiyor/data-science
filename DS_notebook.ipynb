{
 "cells": [
  {
   "cell_type": "code",
   "execution_count": 2,
   "id": "genuine-twins",
   "metadata": {},
   "outputs": [],
   "source": [
    "import pandas as pd\n",
    "import numpy as np\n",
    "import matplotlib.pyplot as plt"
   ]
  },
  {
   "cell_type": "code",
   "execution_count": 3,
   "id": "decent-token",
   "metadata": {},
   "outputs": [
    {
     "data": {
      "text/html": [
       "<div>\n",
       "<style scoped>\n",
       "    .dataframe tbody tr th:only-of-type {\n",
       "        vertical-align: middle;\n",
       "    }\n",
       "\n",
       "    .dataframe tbody tr th {\n",
       "        vertical-align: top;\n",
       "    }\n",
       "\n",
       "    .dataframe thead th {\n",
       "        text-align: right;\n",
       "    }\n",
       "</style>\n",
       "<table border=\"1\" class=\"dataframe\">\n",
       "  <thead>\n",
       "    <tr style=\"text-align: right;\">\n",
       "      <th></th>\n",
       "      <th>Model</th>\n",
       "      <th>Motor_sigim</th>\n",
       "      <th>Narxi</th>\n",
       "    </tr>\n",
       "  </thead>\n",
       "  <tbody>\n",
       "    <tr>\n",
       "      <th>0</th>\n",
       "      <td>Damas</td>\n",
       "      <td>0.6</td>\n",
       "      <td>78000000</td>\n",
       "    </tr>\n",
       "    <tr>\n",
       "      <th>1</th>\n",
       "      <td>Spark</td>\n",
       "      <td>0.8</td>\n",
       "      <td>73000000</td>\n",
       "    </tr>\n",
       "    <tr>\n",
       "      <th>2</th>\n",
       "      <td>Nexia</td>\n",
       "      <td>0.8</td>\n",
       "      <td>87000000</td>\n",
       "    </tr>\n",
       "    <tr>\n",
       "      <th>3</th>\n",
       "      <td>Jentra</td>\n",
       "      <td>0.8</td>\n",
       "      <td>114000000</td>\n",
       "    </tr>\n",
       "  </tbody>\n",
       "</table>\n",
       "</div>"
      ],
      "text/plain": [
       "    Model  Motor_sigim      Narxi\n",
       "0   Damas          0.6   78000000\n",
       "1   Spark          0.8   73000000\n",
       "2   Nexia          0.8   87000000\n",
       "3  Jentra          0.8  114000000"
      ]
     },
     "execution_count": 3,
     "metadata": {},
     "output_type": "execute_result"
    }
   ],
   "source": [
    "data = {\n",
    "    'Model': ['Damas', 'Spark', 'Nexia', 'Jentra'],\n",
    "    'Motor_sigim': [0.6, 0.8, 0.8, 0.8],\n",
    "    'Narxi': [78000000, 73000000, 87000000, 114000000] \n",
    "}\n",
    "Avtomobil = pd.DataFrame(data, columns=['Model', 'Motor_sigim', 'Narxi'])\n",
    "Avtomobil"
   ]
  },
  {
   "cell_type": "code",
   "execution_count": 11,
   "id": "existing-failure",
   "metadata": {},
   "outputs": [
    {
     "data": {
      "text/html": [
       "<div>\n",
       "<style scoped>\n",
       "    .dataframe tbody tr th:only-of-type {\n",
       "        vertical-align: middle;\n",
       "    }\n",
       "\n",
       "    .dataframe tbody tr th {\n",
       "        vertical-align: top;\n",
       "    }\n",
       "\n",
       "    .dataframe thead th {\n",
       "        text-align: right;\n",
       "    }\n",
       "</style>\n",
       "<table border=\"1\" class=\"dataframe\">\n",
       "  <thead>\n",
       "    <tr style=\"text-align: right;\">\n",
       "      <th></th>\n",
       "      <th>year</th>\n",
       "      <th>f_school</th>\n",
       "      <th>f_kolledge</th>\n",
       "      <th>f_lyseum</th>\n",
       "      <th>admission</th>\n",
       "    </tr>\n",
       "  </thead>\n",
       "  <tbody>\n",
       "    <tr>\n",
       "      <th>0</th>\n",
       "      <td>2011</td>\n",
       "      <td>10559.0</td>\n",
       "      <td>443287</td>\n",
       "      <td>31174</td>\n",
       "      <td>58204</td>\n",
       "    </tr>\n",
       "    <tr>\n",
       "      <th>1</th>\n",
       "      <td>2012</td>\n",
       "      <td>8253.0</td>\n",
       "      <td>518766</td>\n",
       "      <td>36358</td>\n",
       "      <td>56969</td>\n",
       "    </tr>\n",
       "    <tr>\n",
       "      <th>2</th>\n",
       "      <td>2013</td>\n",
       "      <td>3930.0</td>\n",
       "      <td>505461</td>\n",
       "      <td>34321</td>\n",
       "      <td>57087</td>\n",
       "    </tr>\n",
       "    <tr>\n",
       "      <th>3</th>\n",
       "      <td>2014</td>\n",
       "      <td>NaN</td>\n",
       "      <td>498058</td>\n",
       "      <td>36399</td>\n",
       "      <td>59324</td>\n",
       "    </tr>\n",
       "    <tr>\n",
       "      <th>4</th>\n",
       "      <td>2015</td>\n",
       "      <td>NaN</td>\n",
       "      <td>482163</td>\n",
       "      <td>36062</td>\n",
       "      <td>58301</td>\n",
       "    </tr>\n",
       "    <tr>\n",
       "      <th>5</th>\n",
       "      <td>2016</td>\n",
       "      <td>NaN</td>\n",
       "      <td>478362</td>\n",
       "      <td>35009</td>\n",
       "      <td>57705</td>\n",
       "    </tr>\n",
       "    <tr>\n",
       "      <th>6</th>\n",
       "      <td>2017</td>\n",
       "      <td>NaN</td>\n",
       "      <td>457015</td>\n",
       "      <td>32720</td>\n",
       "      <td>80822</td>\n",
       "    </tr>\n",
       "    <tr>\n",
       "      <th>7</th>\n",
       "      <td>2018</td>\n",
       "      <td>NaN</td>\n",
       "      <td>454931</td>\n",
       "      <td>31628</td>\n",
       "      <td>108745</td>\n",
       "    </tr>\n",
       "    <tr>\n",
       "      <th>8</th>\n",
       "      <td>2019</td>\n",
       "      <td>280324.0</td>\n",
       "      <td>468809</td>\n",
       "      <td>46453</td>\n",
       "      <td>128730</td>\n",
       "    </tr>\n",
       "  </tbody>\n",
       "</table>\n",
       "</div>"
      ],
      "text/plain": [
       "   year  f_school  f_kolledge  f_lyseum  admission\n",
       "0  2011   10559.0      443287     31174      58204\n",
       "1  2012    8253.0      518766     36358      56969\n",
       "2  2013    3930.0      505461     34321      57087\n",
       "3  2014       NaN      498058     36399      59324\n",
       "4  2015       NaN      482163     36062      58301\n",
       "5  2016       NaN      478362     35009      57705\n",
       "6  2017       NaN      457015     32720      80822\n",
       "7  2018       NaN      454931     31628     108745\n",
       "8  2019  280324.0      468809     46453     128730"
      ]
     },
     "execution_count": 11,
     "metadata": {},
     "output_type": "execute_result"
    }
   ],
   "source": [
    "admission = pd.read_csv('data/accepted_to_higher.csv',\n",
    "                       na_values = ':',\n",
    "                       usecols = ['year','f_school','f_kolledge','f_lyseum','admission'])\n",
    "admission"
   ]
  },
  {
   "cell_type": "code",
   "execution_count": 55,
   "id": "possible-quebec",
   "metadata": {},
   "outputs": [],
   "source": [
    "from sklearn.neural_network import MLPClassifier"
   ]
  },
  {
   "cell_type": "code",
   "execution_count": 6,
   "id": "adjustable-woman",
   "metadata": {},
   "outputs": [
    {
     "data": {
      "text/plain": [
       "MLPClassifier(activation='relu', alpha=1e-05, batch_size='auto', beta_1=0.9,\n",
       "              beta_2=0.999, early_stopping=False, epsilon=1e-08,\n",
       "              hidden_layer_sizes=(5, 2), learning_rate='constant',\n",
       "              learning_rate_init=0.001, max_fun=15000, max_iter=200,\n",
       "              momentum=0.9, n_iter_no_change=10, nesterovs_momentum=True,\n",
       "              power_t=0.5, random_state=1, shuffle=True, solver='lbfgs',\n",
       "              tol=0.0001, validation_fraction=0.1, verbose=False,\n",
       "              warm_start=False)"
      ]
     },
     "execution_count": 6,
     "metadata": {},
     "output_type": "execute_result"
    }
   ],
   "source": [
    "X = [[1., -1.], [1., 0.], [3., -1.]]\n",
    "y = [0, 0, 1]\n",
    "clf = MLPClassifier(solver='lbfgs', alpha=1e-5,\n",
    "                    hidden_layer_sizes=(5, 2), random_state=1)\n",
    "\n",
    "clf.fit(X, y)"
   ]
  },
  {
   "cell_type": "code",
   "execution_count": 7,
   "id": "recent-nevada",
   "metadata": {},
   "outputs": [
    {
     "data": {
      "text/plain": [
       "array([0, 0, 0])"
      ]
     },
     "execution_count": 7,
     "metadata": {},
     "output_type": "execute_result"
    }
   ],
   "source": [
    "clf.predict([[1.0,2.0],[-1.0, -2.0], [1., 2.]])"
   ]
  },
  {
   "cell_type": "code",
   "execution_count": 8,
   "id": "dramatic-cookbook",
   "metadata": {},
   "outputs": [
    {
     "data": {
      "text/plain": [
       "[(2, 5), (5, 2), (2, 1)]"
      ]
     },
     "execution_count": 8,
     "metadata": {},
     "output_type": "execute_result"
    }
   ],
   "source": [
    "[coef.shape for coef in clf.coefs_]"
   ]
  },
  {
   "cell_type": "markdown",
   "id": "athletic-services",
   "metadata": {},
   "source": [
    "## Satrlarning zunligini o'lchash operatori va ularni ulash"
   ]
  },
  {
   "cell_type": "code",
   "execution_count": 12,
   "id": "center-belgium",
   "metadata": {},
   "outputs": [
    {
     "name": "stdout",
     "output_type": "stream",
     "text": [
      "a o`zgaruvchisining uzunligi:  18\n"
     ]
    }
   ],
   "source": [
    "a = \"Assalomu alaykum.\\n\"\n",
    "b = \"Hayrli tong!\"\n",
    "print(\"a o`zgaruvchisining uzunligi: \", len(a))"
   ]
  },
  {
   "cell_type": "code",
   "execution_count": 6,
   "id": "middle-jacket",
   "metadata": {},
   "outputs": [
    {
     "name": "stdout",
     "output_type": "stream",
     "text": [
      "Assalomu alaykum.   Hayrli tong!\n"
     ]
    }
   ],
   "source": [
    "a = \"Assalomu alaykum.\\n\"\n",
    "b = \"Hayrli tong!\"\n",
    "print(a, \" \", b)"
   ]
  },
  {
   "cell_type": "code",
   "execution_count": 53,
   "id": "smart-aberdeen",
   "metadata": {},
   "outputs": [
    {
     "name": "stdout",
     "output_type": "stream",
     "text": [
      "Assalomu alaykum.\n",
      "Assalomu alaykum.\n",
      "Assalomu alaykum.\n",
      "Assalomu alaykum.\n",
      "Assalomu alaykum.\n",
      "Assalomu alaykum.\n",
      "Assalomu alaykum.\n",
      "Assalomu alaykum.\n",
      "Assalomu alaykum.\n",
      "Assalomu alaykum.\n",
      "\n"
     ]
    }
   ],
   "source": [
    "a = \"Assalomu alaykum.\\n\"\n",
    "b = \"Hayrli tong!\"\n",
    "print(a*10)"
   ]
  },
  {
   "cell_type": "code",
   "execution_count": null,
   "id": "automotive-gasoline",
   "metadata": {},
   "outputs": [],
   "source": [
    "Satr kattaligining o`zgaruvchilari vektor deb olsak ham bir xarf uning elementi xisoblanada\n",
    "[] qavsi ichiga berilgan indeks raqami bilan burojaat qilish mumkin"
   ]
  },
  {
   "cell_type": "code",
   "execution_count": 16,
   "id": "endangered-state",
   "metadata": {},
   "outputs": [
    {
     "name": "stdout",
     "output_type": "stream",
     "text": [
      "s\n"
     ]
    }
   ],
   "source": [
    "print(a[1])"
   ]
  },
  {
   "cell_type": "code",
   "execution_count": 17,
   "id": "vulnerable-rouge",
   "metadata": {},
   "outputs": [
    {
     "name": "stdout",
     "output_type": "stream",
     "text": [
      "Assalom\n"
     ]
    }
   ],
   "source": [
    "a = \"Assalomu alaykum.\\n\"\n",
    "print(a[:7])"
   ]
  },
  {
   "cell_type": "code",
   "execution_count": 30,
   "id": "marked-analyst",
   "metadata": {},
   "outputs": [
    {
     "name": "stdout",
     "output_type": "stream",
     "text": [
      "a o`zgaruvchisining uzunligi:  47\n",
      "Assalom Navro`z!\n"
     ]
    }
   ],
   "source": [
    "a = \"Assalomu alaykum. Yaxshi joylashib oldinglarmi?\"\n",
    "b = \"Hayrli tong!\"\n",
    "print(\"a o`zgaruvchisining uzunligi: \", len(a))\n",
    "c = \"Navro`z!\"\n",
    "d = a[:7]+\" \"+c\n",
    "print(d)"
   ]
  },
  {
   "cell_type": "code",
   "execution_count": 31,
   "id": "pretty-monte",
   "metadata": {},
   "outputs": [],
   "source": [
    "matn = \"Isoxlar qo`shtirnoq \\\" ichida yoziladi\""
   ]
  },
  {
   "cell_type": "code",
   "execution_count": 54,
   "id": "impressive-fighter",
   "metadata": {},
   "outputs": [
    {
     "data": {
      "text/plain": [
       "'6'"
      ]
     },
     "execution_count": 54,
     "metadata": {},
     "output_type": "execute_result"
    }
   ],
   "source": [
    "raqamlar = \"0+1+2+3+4+5+6\"\n",
    "yangiMatn = raqamlar.split(\"+\")\n",
    "yangiMatn[6]"
   ]
  },
  {
   "cell_type": "code",
   "execution_count": 50,
   "id": "moderate-payment",
   "metadata": {},
   "outputs": [
    {
     "name": "stdout",
     "output_type": "stream",
     "text": [
      "Doniyorbek-35-yosh."
     ]
    }
   ],
   "source": [
    "Ism = \"Doniyorbek\"\n",
    "yoshi = 35\n",
    "print(Ism, yoshi, \"yosh\", sep = \"-\", end=\".\")"
   ]
  },
  {
   "cell_type": "code",
   "execution_count": 51,
   "id": "frozen-giant",
   "metadata": {},
   "outputs": [
    {
     "name": "stdin",
     "output_type": "stream",
     "text": [
      "Raqam yozing k(0<k<999) 16\n"
     ]
    }
   ],
   "source": [
    "n = input(\"Raqam yozing k(0<k<999)\")\n",
    "n = int(n)\n",
    "d1 = n%10\n",
    "d1"
   ]
  },
  {
   "cell_type": "code",
   "execution_count": 57,
   "id": "cleared-honduras",
   "metadata": {},
   "outputs": [
    {
     "data": {
      "text/plain": [
       "False"
      ]
     },
     "execution_count": 57,
     "metadata": {},
     "output_type": "execute_result"
    }
   ],
   "source": [
    "# Taqqoslash amallari\n",
    "yoshim = 35\n",
    "print(34==yoshim)"
   ]
  },
  {
   "cell_type": "code",
   "execution_count": null,
   "id": "surgical-chester",
   "metadata": {},
   "outputs": [],
   "source": []
  },
  {
   "cell_type": "code",
   "execution_count": 64,
   "id": "efficient-building",
   "metadata": {},
   "outputs": [
    {
     "data": {
      "text/plain": [
       "False"
      ]
     },
     "execution_count": 64,
     "metadata": {},
     "output_type": "execute_result"
    }
   ],
   "source": [
    "# Taqqoslash amallari\n",
    "print(0!=False)"
   ]
  },
  {
   "cell_type": "code",
   "execution_count": 67,
   "id": "quantitative-knock",
   "metadata": {},
   "outputs": [
    {
     "name": "stdout",
     "output_type": "stream",
     "text": [
      "True\n"
     ]
    }
   ],
   "source": [
    "matn = \"Assalomu alaykum ustoz. Xush kelibsiz!\"\n",
    "print(\"Assalomu alaykum\" in matn)\n"
   ]
  },
  {
   "cell_type": "code",
   "execution_count": 74,
   "id": "subjective-insulin",
   "metadata": {},
   "outputs": [
    {
     "name": "stdout",
     "output_type": "stream",
     "text": [
      "False\n",
      "True\n",
      "True\n"
     ]
    }
   ],
   "source": [
    "savat1 = ['olma','anor']\n",
    "savat2 = ['shaftoli', 'olma', 'anor']\n",
    "print((savat1 == savat2) and 1)\n",
    "print((savat1 == savat2) or True)\n",
    "print(not(savat1 == savat2))"
   ]
  },
  {
   "cell_type": "markdown",
   "id": "organic-victor",
   "metadata": {},
   "source": [
    "##Tarmoqlanuvchu operatorlar"
   ]
  },
  {
   "cell_type": "code",
   "execution_count": 76,
   "id": "valid-creation",
   "metadata": {},
   "outputs": [
    {
     "name": "stdin",
     "output_type": "stream",
     "text": [
      "raqam kiriting a 7\n"
     ]
    },
    {
     "name": "stdout",
     "output_type": "stream",
     "text": [
      "Raqam nolga teng emas\n"
     ]
    }
   ],
   "source": [
    "a = input(\"raqam kiriting a\")\n",
    "if a==0:\n",
    "    print(\"Raqam nolga teng\")\n",
    "else:\n",
    "    print(\"Raqam nolga teng emas\")"
   ]
  },
  {
   "cell_type": "markdown",
   "id": "insured-holmes",
   "metadata": {},
   "source": [
    "## Murakkab tarmoqlanuvchi algoritm"
   ]
  },
  {
   "cell_type": "code",
   "execution_count": null,
   "id": "blessed-model",
   "metadata": {},
   "outputs": [],
   "source": [
    "a = input(\"raqam kiriting a:\")\n",
    "a = int(a)\n",
    "if a==0:\n",
    "    print(\"Raqam nolga teng\")\n",
    "elif a>0:\n",
    "    print(\"Raqam noldan latta\")\n",
    "else:\n",
    "    print(\"Manfiy raqam kiritildi\")"
   ]
  },
  {
   "cell_type": "markdown",
   "id": "functioning-eclipse",
   "metadata": {},
   "source": [
    "## Ichma ich joylashgan shartli o'tish"
   ]
  },
  {
   "cell_type": "code",
   "execution_count": 3,
   "id": "sensitive-dressing",
   "metadata": {},
   "outputs": [
    {
     "name": "stdout",
     "output_type": "stream",
     "text": [
      "Raqam musbat va 10 dan katta yoki teng\n"
     ]
    }
   ],
   "source": [
    "# x = input(\"raqam kiriting a:\")\n",
    "x = 10\n",
    "if x > 0:\n",
    "    if x>=10:\n",
    "        print(\"Raqam musbat va 10 dan katta yoki teng\")\n",
    "    else:\n",
    "        print(\"Raqam musbat lekin 10 dan kichik\")\n",
    "else:\n",
    "    print(\"Raqam manfiv\")"
   ]
  },
  {
   "cell_type": "code",
   "execution_count": 1,
   "id": "eleven-athens",
   "metadata": {},
   "outputs": [
    {
     "ename": "ModuleNotFoundError",
     "evalue": "No module named 'NLTK'",
     "output_type": "error",
     "traceback": [
      "\u001b[0;31m---------------------------------------------------------------------------\u001b[0m",
      "\u001b[0;31mModuleNotFoundError\u001b[0m                       Traceback (most recent call last)",
      "\u001b[0;32m<ipython-input-1-a3c41acc7797>\u001b[0m in \u001b[0;36m<module>\u001b[0;34m\u001b[0m\n\u001b[0;32m----> 1\u001b[0;31m \u001b[0;32mimport\u001b[0m \u001b[0mNLTK\u001b[0m\u001b[0;34m\u001b[0m\u001b[0;34m\u001b[0m\u001b[0m\n\u001b[0m",
      "\u001b[0;31mModuleNotFoundError\u001b[0m: No module named 'NLTK'"
     ]
    }
   ],
   "source": [
    "import NLTK"
   ]
  },
  {
   "cell_type": "code",
   "execution_count": null,
   "id": "nuclear-trace",
   "metadata": {},
   "outputs": [],
   "source": []
  }
 ],
 "metadata": {
  "kernelspec": {
   "display_name": "Python 3",
   "language": "python",
   "name": "python3"
  },
  "language_info": {
   "codemirror_mode": {
    "name": "ipython",
    "version": 3
   },
   "file_extension": ".py",
   "mimetype": "text/x-python",
   "name": "python",
   "nbconvert_exporter": "python",
   "pygments_lexer": "ipython3",
   "version": "3.8.1"
  },
  "toc-autonumbering": true,
  "toc-showmarkdowntxt": true
 },
 "nbformat": 4,
 "nbformat_minor": 5
}
